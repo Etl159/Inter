{
 "cells": [
  {
   "cell_type": "markdown",
   "metadata": {},
   "source": [
    "## Functions"
   ]
  },
  {
   "cell_type": "code",
   "execution_count": null,
   "metadata": {},
   "outputs": [],
   "source": [
    "# Functions:\n",
    " \n",
    "# There are two types of functions\n",
    "# 1. inbuilt functions e.g. min, max, sum, del, len\n",
    "# 2. user defined functions.\n",
    "\n",
    "# Functions:\n",
    "#     Functions is a block of code that can call or use wherever we wish to use. \n",
    "#     Functions are organized block of codes which are reusable.\n",
    "#     It will execute only when we do call it.\n",
    "    \n",
    "# Declaration/we write a function/we create a function.\n",
    "# calling of a function/ using a function."
   ]
  },
  {
   "cell_type": "code",
   "execution_count": 16,
   "metadata": {},
   "outputs": [
    {
     "name": "stdout",
     "output_type": "stream",
     "text": [
      "We are in func1\n"
     ]
    }
   ],
   "source": [
    "func1()"
   ]
  },
  {
   "cell_type": "markdown",
   "metadata": {},
   "source": [
    "## Syntax:"
   ]
  },
  {
   "cell_type": "markdown",
   "metadata": {},
   "source": [
    "def function_name(parameters/Arguments): # defining a function \n",
    "    \n",
    "    block of code    # block of code\n",
    "    \n",
    "    return           # optional\n",
    "\n",
    "function_name(parameters/Arguments)      # Calling the function to make a use of it."
   ]
  },
  {
   "cell_type": "code",
   "execution_count": 7,
   "metadata": {},
   "outputs": [],
   "source": [
    "def afternoon_batch():  \n",
    "    print(\"we are learning python and data scienec course\")\n",
    "    return"
   ]
  },
  {
   "cell_type": "code",
   "execution_count": 8,
   "metadata": {},
   "outputs": [
    {
     "name": "stdout",
     "output_type": "stream",
     "text": [
      "we are learning python and data scienec course\n"
     ]
    }
   ],
   "source": [
    "afternoon_batch()"
   ]
  },
  {
   "cell_type": "code",
   "execution_count": 4,
   "metadata": {},
   "outputs": [
    {
     "name": "stdout",
     "output_type": "stream",
     "text": [
      "we are learining the functions\n"
     ]
    }
   ],
   "source": [
    "def batch():        # defining the function\n",
    "    print(\"we are learining the functions\")  #block of code \n",
    "    return  \n",
    "batch()                #calling the fuction "
   ]
  },
  {
   "cell_type": "code",
   "execution_count": 9,
   "metadata": {},
   "outputs": [
    {
     "name": "stdout",
     "output_type": "stream",
     "text": [
      "We are learning user define functions\n"
     ]
    },
    {
     "data": {
      "text/plain": [
       "'Hello everyone'"
      ]
     },
     "execution_count": 9,
     "metadata": {},
     "output_type": "execute_result"
    }
   ],
   "source": [
    "def func():\n",
    "    print('We are learning user define functions')\n",
    "    return \"Hello everyone\"\n",
    "func()"
   ]
  },
  {
   "cell_type": "code",
   "execution_count": 10,
   "metadata": {
    "scrolled": true
   },
   "outputs": [
    {
     "name": "stdout",
     "output_type": "stream",
     "text": [
      "Linear Regression is a supervised ML algorithm\n",
      "KNN is a distance based algorithm\n",
      "We are in func1\n"
     ]
    }
   ],
   "source": [
    "def func1():\n",
    "    print('We are in func1')\n",
    "    \n",
    "def Linear():\n",
    "    print('Linear Regression is a supervised ML algorithm')\n",
    "    \n",
    "def Knn_Classifier():\n",
    "    print('KNN is a distance based algorithm')\n",
    "    \n",
    "Linear()\n",
    "Knn_Classifier()\n",
    "func1()"
   ]
  },
  {
   "cell_type": "code",
   "execution_count": 11,
   "metadata": {
    "scrolled": true
   },
   "outputs": [
    {
     "name": "stdout",
     "output_type": "stream",
     "text": [
      "Linear Regression is a supervised ML algorithm\n"
     ]
    }
   ],
   "source": [
    "Linear()"
   ]
  },
  {
   "cell_type": "code",
   "execution_count": 12,
   "metadata": {},
   "outputs": [
    {
     "name": "stdout",
     "output_type": "stream",
     "text": [
      "We are learning user define functions\n"
     ]
    },
    {
     "data": {
      "text/plain": [
       "'Hello everyone'"
      ]
     },
     "execution_count": 12,
     "metadata": {},
     "output_type": "execute_result"
    }
   ],
   "source": [
    "func()"
   ]
  },
  {
   "cell_type": "code",
   "execution_count": 17,
   "metadata": {},
   "outputs": [
    {
     "name": "stdout",
     "output_type": "stream",
     "text": [
      "3628800\n"
     ]
    }
   ],
   "source": [
    "mul=1\n",
    "num = 10\n",
    "for i in range(1,num+1):\n",
    "    mul=mul*i   \n",
    "print(mul)"
   ]
  },
  {
   "cell_type": "code",
   "execution_count": 21,
   "metadata": {},
   "outputs": [
    {
     "name": "stdout",
     "output_type": "stream",
     "text": [
      "24\n"
     ]
    }
   ],
   "source": [
    "mul=1\n",
    "num = 4\n",
    "for i in range(1,num+1):\n",
    "    mul=mul*i   \n",
    "print(mul)"
   ]
  },
  {
   "cell_type": "code",
   "execution_count": 24,
   "metadata": {},
   "outputs": [],
   "source": [
    "def multiplication(num):\n",
    "    mul = 1\n",
    "    for i in range(1,num+1):\n",
    "        mul=mul*i\n",
    "    print(mul)"
   ]
  },
  {
   "cell_type": "code",
   "execution_count": 25,
   "metadata": {},
   "outputs": [
    {
     "name": "stdout",
     "output_type": "stream",
     "text": [
      "24\n"
     ]
    }
   ],
   "source": [
    "multiplication(4) "
   ]
  },
  {
   "cell_type": "code",
   "execution_count": 27,
   "metadata": {},
   "outputs": [
    {
     "name": "stdout",
     "output_type": "stream",
     "text": [
      "479001600\n"
     ]
    }
   ],
   "source": [
    "multiplication(12)"
   ]
  },
  {
   "cell_type": "code",
   "execution_count": 28,
   "metadata": {},
   "outputs": [
    {
     "name": "stdout",
     "output_type": "stream",
     "text": [
      "3628800\n"
     ]
    }
   ],
   "source": [
    "multiplication(10)"
   ]
  },
  {
   "cell_type": "code",
   "execution_count": 20,
   "metadata": {},
   "outputs": [
    {
     "name": "stdout",
     "output_type": "stream",
     "text": [
      "5040\n"
     ]
    }
   ],
   "source": [
    "multiplication(7)"
   ]
  },
  {
   "cell_type": "code",
   "execution_count": 30,
   "metadata": {},
   "outputs": [],
   "source": [
    "def summation(num):\n",
    "    sum1=0\n",
    "    for i in range(0,num+1): # 0....num, [4,5,6,7,8,2],(....),{......}\n",
    "        sum1=sum1+i\n",
    "    return sum1\n",
    "   "
   ]
  },
  {
   "cell_type": "code",
   "execution_count": 31,
   "metadata": {},
   "outputs": [
    {
     "data": {
      "text/plain": [
       "55"
      ]
     },
     "execution_count": 31,
     "metadata": {},
     "output_type": "execute_result"
    }
   ],
   "source": [
    "summation(10) "
   ]
  },
  {
   "cell_type": "code",
   "execution_count": 32,
   "metadata": {},
   "outputs": [
    {
     "data": {
      "text/plain": [
       "10"
      ]
     },
     "execution_count": 32,
     "metadata": {},
     "output_type": "execute_result"
    }
   ],
   "source": [
    "summation(4)"
   ]
  },
  {
   "cell_type": "code",
   "execution_count": 33,
   "metadata": {},
   "outputs": [],
   "source": [
    "def sum1():\n",
    "    num = int(input('Enter the no.: '))\n",
    "\n",
    "    "
   ]
  },
  {
   "cell_type": "code",
   "execution_count": 39,
   "metadata": {},
   "outputs": [
    {
     "name": "stdout",
     "output_type": "stream",
     "text": [
      "Enter the no.: 5\n"
     ]
    }
   ],
   "source": [
    " num = eval(input('Enter the no.: '))\n"
   ]
  },
  {
   "cell_type": "code",
   "execution_count": 38,
   "metadata": {},
   "outputs": [
    {
     "name": "stdout",
     "output_type": "stream",
     "text": [
      "Enter the no.: 5\n"
     ]
    }
   ],
   "source": [
    "sum1()"
   ]
  },
  {
   "cell_type": "code",
   "execution_count": null,
   "metadata": {},
   "outputs": [],
   "source": [
    "# user define fuction for sequential data type "
   ]
  },
  {
   "cell_type": "code",
   "execution_count": 41,
   "metadata": {},
   "outputs": [],
   "source": [
    "def mult(seq):\n",
    "    result=1\n",
    "    for i in seq:\n",
    "        result*=i\n",
    "    return result\n",
    "\n"
   ]
  },
  {
   "cell_type": "code",
   "execution_count": 43,
   "metadata": {},
   "outputs": [
    {
     "data": {
      "text/plain": [
       "804"
      ]
     },
     "execution_count": 43,
     "metadata": {},
     "output_type": "execute_result"
    }
   ],
   "source": [
    "mult((1,67,3,4))"
   ]
  },
  {
   "cell_type": "code",
   "execution_count": 44,
   "metadata": {},
   "outputs": [
    {
     "data": {
      "text/plain": [
       "168"
      ]
     },
     "execution_count": 44,
     "metadata": {},
     "output_type": "execute_result"
    }
   ],
   "source": [
    "mult([1,2,3,4,7])"
   ]
  },
  {
   "cell_type": "code",
   "execution_count": null,
   "metadata": {},
   "outputs": [],
   "source": [
    "def multiplication(seq):\n",
    "    mul = 1\n",
    "    for i in seq:\n",
    "        mul = mul*i\n",
    "    return(mul)\n",
    "\n",
    "multiplication((1,2,3,4))"
   ]
  },
  {
   "cell_type": "code",
   "execution_count": null,
   "metadata": {},
   "outputs": [],
   "source": [
    "def mult_sum(seq):\n",
    "    mul = 1\n",
    "    sum1 = 0\n",
    "    for i in seq:\n",
    "        mul = mul*i\n",
    "        sum1= sum1+i\n",
    "#     return f'Multiplcation of the elements in the sequence is {mul} and summation is {sum1}.'\n",
    "    print(f'Multiplcation of the elements in the sequence is {mul} and summation is {sum1}.')"
   ]
  },
  {
   "cell_type": "code",
   "execution_count": 45,
   "metadata": {},
   "outputs": [
    {
     "name": "stdout",
     "output_type": "stream",
     "text": [
      "adddition:  49\n",
      "multiplication: 604800\n"
     ]
    }
   ],
   "source": [
    "def addition(num):\n",
    "    sum1=0\n",
    "    mul=1\n",
    "    for i in range(4,1+num):\n",
    "        sum1=sum1+i\n",
    "        mul=mul*i\n",
    "    print(\"adddition: \",sum1)\n",
    "    print(\"multiplication:\",mul)\n",
    "addition(10)"
   ]
  },
  {
   "cell_type": "code",
   "execution_count": null,
   "metadata": {},
   "outputs": [],
   "source": [
    "mult_sum([4,5,7,8,9])"
   ]
  },
  {
   "cell_type": "code",
   "execution_count": null,
   "metadata": {},
   "outputs": [],
   "source": [
    "list1 = [4,5,7,8,9,10,2,4]\n",
    "mult_sum(list1)"
   ]
  },
  {
   "cell_type": "markdown",
   "metadata": {},
   "source": [
    "## Function Arguments"
   ]
  },
  {
   "cell_type": "markdown",
   "metadata": {},
   "source": [
    "Note: We supposed to follow the same sequence always.\n",
    "1. Positional Arguments\n",
    "2. Default Arguments\n",
    "3. Arbitrary Positional Arguments\n",
    "4. Arbitrary keyword Arguments\n",
    "               OR \n",
    "1. Positional Arguments\n",
    "2. Arbitrary Positional Arguments\n",
    "3. Default Arguments\n",
    "4. Arbitrary keyword Arguments  "
   ]
  },
  {
   "cell_type": "markdown",
   "metadata": {},
   "source": [
    "## 1. Positional Arguments"
   ]
  },
  {
   "cell_type": "code",
   "execution_count": null,
   "metadata": {},
   "outputs": [],
   "source": [
    "# no. of parameters/Arguments while creating a function == no. of parameters/Arguments while calling a function"
   ]
  },
  {
   "cell_type": "code",
   "execution_count": null,
   "metadata": {},
   "outputs": [],
   "source": [
    "# def my_fun(parameter1, parameter2):\n",
    "#     print(parameter1)\n",
    "#     print(parameter2)\n",
    "    \n",
    "# my_fun(arg1, arg2)"
   ]
  },
  {
   "cell_type": "code",
   "execution_count": 46,
   "metadata": {},
   "outputs": [],
   "source": [
    "def addition(a,b):\n",
    "    print(f'a == {a} and b == {b}' )\n",
    "    add = a+b\n",
    "    print(f'Addition of {a} and {b} is {add}')\n",
    "    "
   ]
  },
  {
   "cell_type": "code",
   "execution_count": 47,
   "metadata": {},
   "outputs": [
    {
     "name": "stdout",
     "output_type": "stream",
     "text": [
      "a == 4 and b == 5\n",
      "Addition of 4 and 5 is 9\n"
     ]
    }
   ],
   "source": [
    "addition(4,5)"
   ]
  },
  {
   "cell_type": "code",
   "execution_count": 49,
   "metadata": {},
   "outputs": [
    {
     "ename": "TypeError",
     "evalue": "addition() missing 1 required positional argument: 'b'",
     "output_type": "error",
     "traceback": [
      "\u001b[1;31m---------------------------------------------------------------------------\u001b[0m",
      "\u001b[1;31mTypeError\u001b[0m                                 Traceback (most recent call last)",
      "Cell \u001b[1;32mIn[49], line 1\u001b[0m\n\u001b[1;32m----> 1\u001b[0m \u001b[43maddition\u001b[49m\u001b[43m(\u001b[49m\u001b[38;5;241;43m6\u001b[39;49m\u001b[43m)\u001b[49m\n",
      "\u001b[1;31mTypeError\u001b[0m: addition() missing 1 required positional argument: 'b'"
     ]
    }
   ],
   "source": [
    "addition(6)"
   ]
  },
  {
   "cell_type": "code",
   "execution_count": 51,
   "metadata": {},
   "outputs": [
    {
     "name": "stdout",
     "output_type": "stream",
     "text": [
      "a == 10 and b == 30\n",
      "Addition of 10 and 30 is 40\n"
     ]
    }
   ],
   "source": [
    "x = 10\n",
    "y = 30\n",
    "addition(x,y)"
   ]
  },
  {
   "cell_type": "code",
   "execution_count": 53,
   "metadata": {},
   "outputs": [
    {
     "name": "stdout",
     "output_type": "stream",
     "text": [
      "a == 80 and b == 70\n",
      "Addition of 80 and 70 is 150\n"
     ]
    }
   ],
   "source": [
    "s = 80\n",
    "q = 70\n",
    "addition(s,q)"
   ]
  },
  {
   "cell_type": "code",
   "execution_count": 54,
   "metadata": {},
   "outputs": [
    {
     "name": "stdout",
     "output_type": "stream",
     "text": [
      "a == 30 and b == 10\n",
      "Addition of 30 and 10 is 40\n"
     ]
    }
   ],
   "source": [
    "addition(y,x)"
   ]
  },
  {
   "cell_type": "code",
   "execution_count": 55,
   "metadata": {
    "scrolled": true
   },
   "outputs": [
    {
     "ename": "TypeError",
     "evalue": "addition() takes 2 positional arguments but 3 were given",
     "output_type": "error",
     "traceback": [
      "\u001b[1;31m---------------------------------------------------------------------------\u001b[0m",
      "\u001b[1;31mTypeError\u001b[0m                                 Traceback (most recent call last)",
      "Cell \u001b[1;32mIn[55], line 1\u001b[0m\n\u001b[1;32m----> 1\u001b[0m \u001b[43maddition\u001b[49m\u001b[43m(\u001b[49m\u001b[38;5;241;43m1\u001b[39;49m\u001b[43m,\u001b[49m\u001b[38;5;241;43m4\u001b[39;49m\u001b[43m,\u001b[49m\u001b[38;5;241;43m7\u001b[39;49m\u001b[43m)\u001b[49m\n",
      "\u001b[1;31mTypeError\u001b[0m: addition() takes 2 positional arguments but 3 were given"
     ]
    }
   ],
   "source": [
    "addition(1,4,7)"
   ]
  },
  {
   "cell_type": "markdown",
   "metadata": {},
   "source": [
    "HW = write a user define function for 3 numbers \n",
    "1) addition\n",
    "2) substraction\n",
    "3) multiplication\n"
   ]
  },
  {
   "cell_type": "markdown",
   "metadata": {},
   "source": [
    "## 2. Default Arguments"
   ]
  },
  {
   "cell_type": "raw",
   "metadata": {},
   "source": [
    "These are the arguments which are declared in the paranthesis of a function itself.\n",
    "It means if in case a user will failed to pass the parameter value while calling the function, it takes the by default value provided or declared at the time of defining a function."
   ]
  },
  {
   "cell_type": "code",
   "execution_count": 56,
   "metadata": {},
   "outputs": [],
   "source": [
    "def addition(a,b): # a = 5, b = 8\n",
    "    print(f'a == {a} and b == {b}' )\n",
    "    add = a+b\n",
    "    print(f'addition of {a} and {b} is {add}')"
   ]
  },
  {
   "cell_type": "code",
   "execution_count": 57,
   "metadata": {},
   "outputs": [
    {
     "name": "stdout",
     "output_type": "stream",
     "text": [
      "a == 5 and b == 7\n",
      "addition of 5 and 7 is 12\n"
     ]
    }
   ],
   "source": [
    "addition(5,7)"
   ]
  },
  {
   "cell_type": "code",
   "execution_count": 59,
   "metadata": {},
   "outputs": [],
   "source": [
    "def add1(a,b=10):\n",
    "    print(f'a == {a} and b == {b}' )\n",
    "    add = a+b\n",
    "    print(f\"Addition of {a} and {b} is {add}\")\n"
   ]
  },
  {
   "cell_type": "code",
   "execution_count": 63,
   "metadata": {},
   "outputs": [
    {
     "ename": "SyntaxError",
     "evalue": "non-default argument follows default argument (4054517548.py, line 1)",
     "output_type": "error",
     "traceback": [
      "\u001b[1;36m  Cell \u001b[1;32mIn[63], line 1\u001b[1;36m\u001b[0m\n\u001b[1;33m    def add1(a=10,b):\u001b[0m\n\u001b[1;37m                  ^\u001b[0m\n\u001b[1;31mSyntaxError\u001b[0m\u001b[1;31m:\u001b[0m non-default argument follows default argument\n"
     ]
    }
   ],
   "source": [
    "def add1(a=10,b):\n",
    "    print(f'a == {a} and b == {b}' )\n",
    "    add = a+b\n",
    "    print(f\"Addition of {a} and {b} is {add}\")"
   ]
  },
  {
   "cell_type": "code",
   "execution_count": 60,
   "metadata": {},
   "outputs": [
    {
     "name": "stdout",
     "output_type": "stream",
     "text": [
      "a == 4 and b == 10\n",
      "Addition of 4 and 10 is 14\n"
     ]
    }
   ],
   "source": [
    "add1(4)"
   ]
  },
  {
   "cell_type": "code",
   "execution_count": 61,
   "metadata": {},
   "outputs": [
    {
     "name": "stdout",
     "output_type": "stream",
     "text": [
      "a == 12 and b == 10\n",
      "Addition of 12 and 10 is 22\n"
     ]
    }
   ],
   "source": [
    "add1(12)"
   ]
  },
  {
   "cell_type": "code",
   "execution_count": 62,
   "metadata": {},
   "outputs": [
    {
     "name": "stdout",
     "output_type": "stream",
     "text": [
      "a == 9 and b == 7\n",
      "Addition of 9 and 7 is 16\n"
     ]
    }
   ],
   "source": [
    " add1(9,7)"
   ]
  },
  {
   "cell_type": "code",
   "execution_count": null,
   "metadata": {},
   "outputs": [],
   "source": [
    "#if we give default arguments as first then it trought an error \n"
   ]
  },
  {
   "cell_type": "code",
   "execution_count": 64,
   "metadata": {},
   "outputs": [
    {
     "name": "stdout",
     "output_type": "stream",
     "text": [
      "a == 5 and b == 10\n",
      "Addition of 5 and 10 is 15\n"
     ]
    }
   ],
   "source": [
    "def add1(a=5,b=10):\n",
    "    print(f'a == {a} and b == {b}' )\n",
    "    add = a+b\n",
    "    print(f\"Addition of {a} and {b} is {add}\")\n",
    "add1()"
   ]
  },
  {
   "cell_type": "code",
   "execution_count": 65,
   "metadata": {},
   "outputs": [
    {
     "name": "stdout",
     "output_type": "stream",
     "text": [
      "a == 3 and b == 10\n",
      "Addition of 3 and 10 is 13\n"
     ]
    }
   ],
   "source": [
    "add1(3)"
   ]
  },
  {
   "cell_type": "code",
   "execution_count": 66,
   "metadata": {},
   "outputs": [
    {
     "name": "stdout",
     "output_type": "stream",
     "text": [
      "a =2, b=5, c=25\n"
     ]
    },
    {
     "data": {
      "text/plain": [
       "32"
      ]
     },
     "execution_count": 66,
     "metadata": {},
     "output_type": "execute_result"
    }
   ],
   "source": [
    "def addition(a,b=5,c=25): # a,b are positional arguments, c is default argument\n",
    "    print(f'a ={a}, b={b}, c={c}')\n",
    "    add = a+b+c\n",
    "    return add\n",
    "addition(2)"
   ]
  },
  {
   "cell_type": "code",
   "execution_count": null,
   "metadata": {},
   "outputs": [],
   "source": []
  },
  {
   "cell_type": "code",
   "execution_count": null,
   "metadata": {},
   "outputs": [],
   "source": []
  }
 ],
 "metadata": {
  "kernelspec": {
   "display_name": "Python 3 (ipykernel)",
   "language": "python",
   "name": "python3"
  },
  "language_info": {
   "codemirror_mode": {
    "name": "ipython",
    "version": 3
   },
   "file_extension": ".py",
   "mimetype": "text/x-python",
   "name": "python",
   "nbconvert_exporter": "python",
   "pygments_lexer": "ipython3",
   "version": "3.10.9"
  }
 },
 "nbformat": 4,
 "nbformat_minor": 4
}
